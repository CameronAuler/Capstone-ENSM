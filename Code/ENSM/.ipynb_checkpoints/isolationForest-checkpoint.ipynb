{
 "cells": [
  {
   "cell_type": "code",
   "execution_count": 18,
   "id": "221f4f98-2b94-403f-ba6d-19b8a5a2c4dc",
   "metadata": {
    "tags": []
   },
   "outputs": [],
   "source": [
    "import numpy as np\n",
    "import pandas as pd\n",
    "import matplotlib.pylab as plot\n",
    "import seaborn as sns\n",
    "from sklearn.ensemble import IsolationForest\n",
    "plot.style.use('ggplot')\n",
    "# pd.set_option('max_columns', 200)"
   ]
  },
  {
   "cell_type": "code",
   "execution_count": 19,
   "id": "406eb3d0-1c7e-46b1-b149-a1ceec56c108",
   "metadata": {
    "tags": []
   },
   "outputs": [
    {
     "name": "stdout",
     "output_type": "stream",
     "text": [
      "<class 'pandas.core.frame.DataFrame'>\n",
      "RangeIndex: 1502 entries, 0 to 1501\n",
      "Data columns (total 10 columns):\n",
      " #   Column       Non-Null Count  Dtype  \n",
      "---  ------       --------------  -----  \n",
      " 0   ts           1502 non-null   float64\n",
      " 1   uid          1502 non-null   object \n",
      " 2   id.orig_h    1502 non-null   object \n",
      " 3   id.orig_p    1502 non-null   int64  \n",
      " 4   id.resp_h    1502 non-null   object \n",
      " 5   id.resp_p    1502 non-null   int64  \n",
      " 6   mac          1502 non-null   object \n",
      " 7   assigned_ip  1502 non-null   object \n",
      " 8   lease_time   1502 non-null   float64\n",
      " 9   trans_id     1502 non-null   int64  \n",
      "dtypes: float64(2), int64(3), object(5)\n",
      "memory usage: 117.5+ KB\n"
     ]
    }
   ],
   "source": [
    "data_frame = pd.read_csv('Data/dhcp.csv')\n",
    "data_frame.info()"
   ]
  },
  {
   "cell_type": "code",
   "execution_count": 20,
   "id": "addcd961-92de-4324-bba2-81848b2bda46",
   "metadata": {
    "tags": []
   },
   "outputs": [],
   "source": [
    "anomaly_inputs = ['ts', 'uid', 'id.orig_h', 'id.orig_p', 'id.resp_h', 'id.resp_p', 'mac', 'assigned_ip', 'lease_time', 'trans_id']"
   ]
  },
  {
   "cell_type": "code",
   "execution_count": 21,
   "id": "8466a14d-45f3-465a-b6a0-d166c917410c",
   "metadata": {
    "tags": []
   },
   "outputs": [],
   "source": [
    "if_model = IsolationForest(contamination=0.1, random_state=42)"
   ]
  },
  {
   "cell_type": "code",
   "execution_count": 23,
   "id": "2f93157f-7529-4544-9c7f-bb451f6e0b68",
   "metadata": {
    "tags": []
   },
   "outputs": [],
   "source": [
    "#if_model.fit(data_frame[anomaly_inputs])"
   ]
  },
  {
   "cell_type": "code",
   "execution_count": null,
   "id": "b6a37554-fef5-42ac-a4a6-3912b55d852b",
   "metadata": {},
   "outputs": [],
   "source": []
  }
 ],
 "metadata": {
  "kernelspec": {
   "display_name": "Python 3 (ipykernel)",
   "language": "python",
   "name": "python3"
  },
  "language_info": {
   "codemirror_mode": {
    "name": "ipython",
    "version": 3
   },
   "file_extension": ".py",
   "mimetype": "text/x-python",
   "name": "python",
   "nbconvert_exporter": "python",
   "pygments_lexer": "ipython3",
   "version": "3.11.2"
  }
 },
 "nbformat": 4,
 "nbformat_minor": 5
}
