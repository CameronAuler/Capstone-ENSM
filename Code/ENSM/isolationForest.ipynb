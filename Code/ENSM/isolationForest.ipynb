{
 "cells": [
  {
   "cell_type": "code",
   "execution_count": 39,
   "id": "221f4f98-2b94-403f-ba6d-19b8a5a2c4dc",
   "metadata": {
    "tags": []
   },
   "outputs": [],
   "source": [
    "import numpy as np\n",
    "import pandas as pd\n",
    "import matplotlib.pylab as plot\n",
    "import seaborn as sns\n",
    "from sklearn.ensemble import IsolationForest\n",
    "plot.style.use('ggplot')\n",
    "pd.set_option(\"display.max_columns\", 200)"
   ]
  },
  {
   "cell_type": "code",
   "execution_count": 40,
   "id": "406eb3d0-1c7e-46b1-b149-a1ceec56c108",
   "metadata": {
    "tags": []
   },
   "outputs": [],
   "source": [
    "data_frame = pd.read_csv('Data/dhcp.csv')"
   ]
  },
  {
   "cell_type": "code",
   "execution_count": 49,
   "id": "add8b87e-8b80-4b8c-96cc-adf4ddac5ee2",
   "metadata": {
    "tags": []
   },
   "outputs": [
    {
     "data": {
      "text/plain": [
       "(1502, 10)"
      ]
     },
     "execution_count": 49,
     "metadata": {},
     "output_type": "execute_result"
    }
   ],
   "source": [
    "# Shape of the data frame, (rows, columns)\n",
    "data_frame.shape"
   ]
  },
  {
   "cell_type": "code",
   "execution_count": 50,
   "id": "dd0d9e79-dc50-407b-96a5-409a8cb84079",
   "metadata": {
    "tags": []
   },
   "outputs": [
    {
     "data": {
      "text/plain": [
       "Index(['ts', 'uid', 'id.orig_h', 'id.orig_p', 'id.resp_h', 'id.resp_p', 'mac',\n",
       "       'assigned_ip', 'lease_time', 'trans_id'],\n",
       "      dtype='object')"
      ]
     },
     "execution_count": 50,
     "metadata": {},
     "output_type": "execute_result"
    }
   ],
   "source": [
    "data_frame.columns"
   ]
  },
  {
   "cell_type": "code",
   "execution_count": 41,
   "id": "a2458e80-c05f-4d93-984b-0714cf6d4701",
   "metadata": {
    "tags": []
   },
   "outputs": [
    {
     "name": "stdout",
     "output_type": "stream",
     "text": [
      "<class 'pandas.core.frame.DataFrame'>\n",
      "RangeIndex: 1502 entries, 0 to 1501\n",
      "Data columns (total 10 columns):\n",
      " #   Column       Non-Null Count  Dtype  \n",
      "---  ------       --------------  -----  \n",
      " 0   ts           1502 non-null   float64\n",
      " 1   uid          1502 non-null   object \n",
      " 2   id.orig_h    1502 non-null   object \n",
      " 3   id.orig_p    1502 non-null   int64  \n",
      " 4   id.resp_h    1502 non-null   object \n",
      " 5   id.resp_p    1502 non-null   int64  \n",
      " 6   mac          1502 non-null   object \n",
      " 7   assigned_ip  1502 non-null   object \n",
      " 8   lease_time   1502 non-null   float64\n",
      " 9   trans_id     1502 non-null   int64  \n",
      "dtypes: float64(2), int64(3), object(5)\n",
      "memory usage: 117.5+ KB\n"
     ]
    }
   ],
   "source": [
    "data_frame.info()"
   ]
  },
  {
   "cell_type": "code",
   "execution_count": 52,
   "id": "052917f5-c237-4e27-ac23-bacf918e4987",
   "metadata": {
    "tags": []
   },
   "outputs": [
    {
     "data": {
      "text/plain": [
       "ts             float64\n",
       "uid             object\n",
       "id.orig_h       object\n",
       "id.orig_p        int64\n",
       "id.resp_h       object\n",
       "id.resp_p        int64\n",
       "mac             object\n",
       "assigned_ip     object\n",
       "lease_time     float64\n",
       "trans_id         int64\n",
       "dtype: object"
      ]
     },
     "execution_count": 52,
     "metadata": {},
     "output_type": "execute_result"
    }
   ],
   "source": [
    "# Type of column\n",
    "data_frame.dtypes"
   ]
  },
  {
   "cell_type": "code",
   "execution_count": 54,
   "id": "bad2040f-0887-47fb-81b4-77769c0a9ba5",
   "metadata": {
    "tags": []
   },
   "outputs": [
    {
     "data": {
      "text/html": [
       "<div>\n",
       "<style scoped>\n",
       "    .dataframe tbody tr th:only-of-type {\n",
       "        vertical-align: middle;\n",
       "    }\n",
       "\n",
       "    .dataframe tbody tr th {\n",
       "        vertical-align: top;\n",
       "    }\n",
       "\n",
       "    .dataframe thead th {\n",
       "        text-align: right;\n",
       "    }\n",
       "</style>\n",
       "<table border=\"1\" class=\"dataframe\">\n",
       "  <thead>\n",
       "    <tr style=\"text-align: right;\">\n",
       "      <th></th>\n",
       "      <th>ts</th>\n",
       "      <th>uid</th>\n",
       "      <th>id.orig_h</th>\n",
       "      <th>id.orig_p</th>\n",
       "      <th>id.resp_h</th>\n",
       "      <th>id.resp_p</th>\n",
       "      <th>mac</th>\n",
       "      <th>assigned_ip</th>\n",
       "      <th>lease_time</th>\n",
       "      <th>trans_id</th>\n",
       "    </tr>\n",
       "  </thead>\n",
       "  <tbody>\n",
       "    <tr>\n",
       "      <th>0</th>\n",
       "      <td>1.331901e+09</td>\n",
       "      <td>CCHNFI4C6RAO93bP7</td>\n",
       "      <td>192.168.202.76</td>\n",
       "      <td>68</td>\n",
       "      <td>192.168.202.1</td>\n",
       "      <td>67</td>\n",
       "      <td>00:26:9e:83:a2:30</td>\n",
       "      <td>192.168.202.76</td>\n",
       "      <td>0.0</td>\n",
       "      <td>2767872470</td>\n",
       "    </tr>\n",
       "    <tr>\n",
       "      <th>1</th>\n",
       "      <td>1.331901e+09</td>\n",
       "      <td>CouYOF1J4EnQkQNSl3</td>\n",
       "      <td>192.168.204.69</td>\n",
       "      <td>68</td>\n",
       "      <td>192.168.204.1</td>\n",
       "      <td>67</td>\n",
       "      <td>00:26:b9:da:95:2c</td>\n",
       "      <td>192.168.204.69</td>\n",
       "      <td>0.0</td>\n",
       "      <td>2023309577</td>\n",
       "    </tr>\n",
       "    <tr>\n",
       "      <th>2</th>\n",
       "      <td>1.331901e+09</td>\n",
       "      <td>C9svD93TrEvPshF7Gf</td>\n",
       "      <td>192.168.202.102</td>\n",
       "      <td>68</td>\n",
       "      <td>192.168.202.1</td>\n",
       "      <td>67</td>\n",
       "      <td>f0:de:f1:2e:6a:5a</td>\n",
       "      <td>192.168.202.102</td>\n",
       "      <td>0.0</td>\n",
       "      <td>7111068</td>\n",
       "    </tr>\n",
       "    <tr>\n",
       "      <th>3</th>\n",
       "      <td>1.331901e+09</td>\n",
       "      <td>C2nAD54rXz5nILppHh</td>\n",
       "      <td>192.168.202.76</td>\n",
       "      <td>68</td>\n",
       "      <td>192.168.202.1</td>\n",
       "      <td>67</td>\n",
       "      <td>00:26:9e:83:a2:30</td>\n",
       "      <td>192.168.202.76</td>\n",
       "      <td>0.0</td>\n",
       "      <td>4022009768</td>\n",
       "    </tr>\n",
       "    <tr>\n",
       "      <th>4</th>\n",
       "      <td>1.331901e+09</td>\n",
       "      <td>CVRJN6491gIrhKWzHk</td>\n",
       "      <td>192.168.204.69</td>\n",
       "      <td>68</td>\n",
       "      <td>192.168.204.1</td>\n",
       "      <td>67</td>\n",
       "      <td>00:26:b9:da:95:2c</td>\n",
       "      <td>192.168.204.69</td>\n",
       "      <td>0.0</td>\n",
       "      <td>3428947570</td>\n",
       "    </tr>\n",
       "  </tbody>\n",
       "</table>\n",
       "</div>"
      ],
      "text/plain": [
       "             ts                 uid        id.orig_h  id.orig_p  \\\n",
       "0  1.331901e+09   CCHNFI4C6RAO93bP7   192.168.202.76         68   \n",
       "1  1.331901e+09  CouYOF1J4EnQkQNSl3   192.168.204.69         68   \n",
       "2  1.331901e+09  C9svD93TrEvPshF7Gf  192.168.202.102         68   \n",
       "3  1.331901e+09  C2nAD54rXz5nILppHh   192.168.202.76         68   \n",
       "4  1.331901e+09  CVRJN6491gIrhKWzHk   192.168.204.69         68   \n",
       "\n",
       "       id.resp_h  id.resp_p                mac      assigned_ip  lease_time  \\\n",
       "0  192.168.202.1         67  00:26:9e:83:a2:30   192.168.202.76         0.0   \n",
       "1  192.168.204.1         67  00:26:b9:da:95:2c   192.168.204.69         0.0   \n",
       "2  192.168.202.1         67  f0:de:f1:2e:6a:5a  192.168.202.102         0.0   \n",
       "3  192.168.202.1         67  00:26:9e:83:a2:30   192.168.202.76         0.0   \n",
       "4  192.168.204.1         67  00:26:b9:da:95:2c   192.168.204.69         0.0   \n",
       "\n",
       "     trans_id  \n",
       "0  2767872470  \n",
       "1  2023309577  \n",
       "2     7111068  \n",
       "3  4022009768  \n",
       "4  3428947570  "
      ]
     },
     "execution_count": 54,
     "metadata": {},
     "output_type": "execute_result"
    }
   ],
   "source": [
    "# Shows headers\n",
    "data_frame.head(5)"
   ]
  },
  {
   "cell_type": "code",
   "execution_count": 55,
   "id": "1677ff6f-705f-4510-91fb-225d84dec94d",
   "metadata": {
    "tags": []
   },
   "outputs": [
    {
     "data": {
      "text/html": [
       "<div>\n",
       "<style scoped>\n",
       "    .dataframe tbody tr th:only-of-type {\n",
       "        vertical-align: middle;\n",
       "    }\n",
       "\n",
       "    .dataframe tbody tr th {\n",
       "        vertical-align: top;\n",
       "    }\n",
       "\n",
       "    .dataframe thead th {\n",
       "        text-align: right;\n",
       "    }\n",
       "</style>\n",
       "<table border=\"1\" class=\"dataframe\">\n",
       "  <thead>\n",
       "    <tr style=\"text-align: right;\">\n",
       "      <th></th>\n",
       "      <th>ts</th>\n",
       "      <th>id.orig_p</th>\n",
       "      <th>id.resp_p</th>\n",
       "      <th>lease_time</th>\n",
       "      <th>trans_id</th>\n",
       "    </tr>\n",
       "  </thead>\n",
       "  <tbody>\n",
       "    <tr>\n",
       "      <th>count</th>\n",
       "      <td>1.502000e+03</td>\n",
       "      <td>1502.0</td>\n",
       "      <td>1502.0</td>\n",
       "      <td>1502.000000</td>\n",
       "      <td>1.502000e+03</td>\n",
       "    </tr>\n",
       "    <tr>\n",
       "      <th>mean</th>\n",
       "      <td>1.331956e+09</td>\n",
       "      <td>68.0</td>\n",
       "      <td>67.0</td>\n",
       "      <td>21053.528628</td>\n",
       "      <td>2.131450e+09</td>\n",
       "    </tr>\n",
       "    <tr>\n",
       "      <th>std</th>\n",
       "      <td>4.296634e+04</td>\n",
       "      <td>0.0</td>\n",
       "      <td>0.0</td>\n",
       "      <td>37103.778477</td>\n",
       "      <td>1.234647e+09</td>\n",
       "    </tr>\n",
       "    <tr>\n",
       "      <th>min</th>\n",
       "      <td>1.331901e+09</td>\n",
       "      <td>68.0</td>\n",
       "      <td>67.0</td>\n",
       "      <td>0.000000</td>\n",
       "      <td>1.196690e+05</td>\n",
       "    </tr>\n",
       "    <tr>\n",
       "      <th>25%</th>\n",
       "      <td>1.331916e+09</td>\n",
       "      <td>68.0</td>\n",
       "      <td>67.0</td>\n",
       "      <td>0.000000</td>\n",
       "      <td>1.114131e+09</td>\n",
       "    </tr>\n",
       "    <tr>\n",
       "      <th>50%</th>\n",
       "      <td>1.331935e+09</td>\n",
       "      <td>68.0</td>\n",
       "      <td>67.0</td>\n",
       "      <td>0.000000</td>\n",
       "      <td>2.144179e+09</td>\n",
       "    </tr>\n",
       "    <tr>\n",
       "      <th>75%</th>\n",
       "      <td>1.331999e+09</td>\n",
       "      <td>68.0</td>\n",
       "      <td>67.0</td>\n",
       "      <td>0.000000</td>\n",
       "      <td>3.143698e+09</td>\n",
       "    </tr>\n",
       "    <tr>\n",
       "      <th>max</th>\n",
       "      <td>1.332017e+09</td>\n",
       "      <td>68.0</td>\n",
       "      <td>67.0</td>\n",
       "      <td>86400.000000</td>\n",
       "      <td>4.292546e+09</td>\n",
       "    </tr>\n",
       "  </tbody>\n",
       "</table>\n",
       "</div>"
      ],
      "text/plain": [
       "                 ts  id.orig_p  id.resp_p    lease_time      trans_id\n",
       "count  1.502000e+03     1502.0     1502.0   1502.000000  1.502000e+03\n",
       "mean   1.331956e+09       68.0       67.0  21053.528628  2.131450e+09\n",
       "std    4.296634e+04        0.0        0.0  37103.778477  1.234647e+09\n",
       "min    1.331901e+09       68.0       67.0      0.000000  1.196690e+05\n",
       "25%    1.331916e+09       68.0       67.0      0.000000  1.114131e+09\n",
       "50%    1.331935e+09       68.0       67.0      0.000000  2.144179e+09\n",
       "75%    1.331999e+09       68.0       67.0      0.000000  3.143698e+09\n",
       "max    1.332017e+09       68.0       67.0  86400.000000  4.292546e+09"
      ]
     },
     "execution_count": 55,
     "metadata": {},
     "output_type": "execute_result"
    }
   ],
   "source": [
    "data_frame.describe()"
   ]
  },
  {
   "cell_type": "code",
   "execution_count": 43,
   "id": "addcd961-92de-4324-bba2-81848b2bda46",
   "metadata": {
    "tags": []
   },
   "outputs": [],
   "source": [
    "anomaly_inputs = ['ts', 'id.orig_h', 'id.orig_p', 'id.resp_h', 'id.resp_p', 'mac', 'assigned_ip', 'lease_time', 'trans_id']"
   ]
  },
  {
   "cell_type": "code",
   "execution_count": 44,
   "id": "8466a14d-45f3-465a-b6a0-d166c917410c",
   "metadata": {
    "tags": []
   },
   "outputs": [],
   "source": [
    "if_model = IsolationForest(contamination=0.1, random_state=42)"
   ]
  },
  {
   "cell_type": "code",
   "execution_count": 45,
   "id": "2f93157f-7529-4544-9c7f-bb451f6e0b68",
   "metadata": {
    "tags": []
   },
   "outputs": [],
   "source": [
    "#if_model.fit(data_frame[anomaly_inputs])"
   ]
  }
 ],
 "metadata": {
  "kernelspec": {
   "display_name": "Python 3 (ipykernel)",
   "language": "python",
   "name": "python3"
  },
  "language_info": {
   "codemirror_mode": {
    "name": "ipython",
    "version": 3
   },
   "file_extension": ".py",
   "mimetype": "text/x-python",
   "name": "python",
   "nbconvert_exporter": "python",
   "pygments_lexer": "ipython3",
   "version": "3.11.2"
  }
 },
 "nbformat": 4,
 "nbformat_minor": 5
}
